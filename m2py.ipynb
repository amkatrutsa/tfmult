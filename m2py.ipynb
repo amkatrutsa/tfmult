{
 "cells": [
  {
   "cell_type": "code",
   "execution_count": null,
   "metadata": {
    "collapsed": true
   },
   "outputs": [],
   "source": [
    "function mit18086_multigrid\n",
    "%MIT18086_MULTIGRID\n",
    "%    Sets up a 1d Poisson test problem and solves it by multigrid.\n",
    "%    Method uses twogrid recursively using Gauss-Seidel for smoothing\n",
    "%    and elimination to solve at coarsest level (n<4).\n",
    "%    Number of pre- and postsmoothing and coarse grid iteration steps\n",
    "%    can be prescribed.\n",
    "\n",
    "% 04/2007 by Benjamin Seibold\n",
    "%            http://www-math.mit.edu/~seibold/\n",
    "% Feel free to modify for teaching and learning.\n",
    "%---------------------------------------------------------------------\n",
    "levels = 5;                                          % size of problem\n",
    "nu1 = 2;                           % number of presmoothing iterations\n",
    "nu2 = 2;                          % number of postsmoothing iterations\n",
    "gamma = 2;   % number of coarse grid iterations (1=V-cycle, 2=W-cycle)\n",
    "%---------------------------------------------------------------------\n",
    "n = 2^(levels+2)-1;                            % number of grid points\n",
    "h = 1/(n+1);\n",
    "x = (h:h:(1-h))';\n",
    "f = pi^2*(sin(pi*x)+4^2*sin(pi*4*x)+9^2*sin(pi*9*x));\n",
    "A = spdiags(ones(n,1)*[-1 2 -1],-1:1,n,n);\n",
    "b = f*h^2;\n",
    "uc = A\\b;\n",
    "\n",
    "global t level, t = 0; level = levels;\n",
    "clf, subplot(2,2,3:4), hold on\n",
    "u = twogrid(A,b,nu1,nu2,gamma);\n",
    "hold off, axis tight\n",
    "subplot(2,2,1), plot(x,u,'b.-',x,uc,'r.--')\n",
    "title('correct solution and multigrid approximation')\n",
    "subplot(2,2,2), plot(x,uc-u,'r.-')\n",
    "title('error')\n",
    "\n",
    "%=====================================================================\n",
    "\n",
    "function x = twogrid(A,b,nu1,nu2,gamma,x0)\n",
    "%TWOGRID\n",
    "%    Recursive twogrid cycle for 1d Poisson problem.\n",
    "%    nu1 = number of presmoothing iterations (Gauss-Seidel)\n",
    "%    nu2 = number of postsmoothing iterations (Gauss-Seidel)\n",
    "%    gamma = number of coarse grid iterations (1=V-cycle, 2=W-cycle)\n",
    "%    x0 = starting vector (0 if not prescribed)\n",
    "global t level\n",
    "n = length(b);\n",
    "if n<4\n",
    "   x = A\\b;                          % solve exactly at coarsest level\n",
    "else\n",
    "   G = speye(n)-tril(A)\\A; cG = tril(A)\\b;       % create Gauss-Seidel\n",
    "   I = spdiags(ones(n-2,1)*[1 2 1],-2:0,n,n-2); % create interpolation\n",
    "   I = I(:,1:2:end)/2; R = I'/2;            % and restriction matrices\n",
    "   if nargin<6, x = b*0; else, x = x0; end           % starting vector\n",
    "   for i = 1:nu1, x = G*x+cG; end                       % presmoothing\n",
    "   r = b-A*x;                                       % compute residual\n",
    "   rh = R*r;                        % restrict residual to coarse grid\n",
    "   t = t+1; level = level-1; plot([t-1 t], [level+1 level],'bo-')\n",
    "   eh = rh*0;                                        % starting vector\n",
    "   for i = 1:gamma\n",
    "      eh = twogrid(R*A*I,rh,nu1,nu2,gamma,eh); % coarse grid iteration\n",
    "   end\n",
    "   e = I*eh;                                       % interpolate error\n",
    "   t = t+1; level = level+1; plot([t-1 t],[level-1 level],'bo-')\n",
    "   x = x+e;                                          % update solution\n",
    "   for i = 1:nu2, x = G*x+cG; end                      % postsmoothing\n",
    "end\n"
   ]
  },
  {
   "cell_type": "code",
   "execution_count": 42,
   "metadata": {
    "collapsed": true
   },
   "outputs": [],
   "source": [
    "import numpy as np\n",
    "import warnings\n",
    "from scipy import sparse\n",
    "from scipy.sparse import linalg"
   ]
  },
  {
   "cell_type": "code",
   "execution_count": 89,
   "metadata": {
    "collapsed": true
   },
   "outputs": [],
   "source": [
    "def twogrid(A, b, nu1, nu2, gamma, x0=None):\n",
    "    #     TWOGRID\n",
    "    #         Recursive twogrid cycle for 1d Poisson problem.\n",
    "    #         nu1 = number of presmoothing iterations (Gauss-Seidel)\n",
    "    #         nu2 = number of postsmoothing iterations (Gauss-Seidel)\n",
    "    #         gamma = number of coarse grid iterations (1=V-cycle, 2=W-cycle)\n",
    "    #         x0 = starting vector (0 if not prescribed)\n",
    "    warnings.filterwarnings(\"ignore\")\n",
    "    n = b.size\n",
    "    if n < 4:\n",
    "        x = linalg.spsolve(A, b)\n",
    "    else:\n",
    "        G = sparse.eye(n) - linalg.inv(sparse.tril(A)).dot(A)\n",
    "        cG = linalg.inv(sparse.tril(A)).dot(b)\n",
    "        I = sparse.diags([np.full((n - 2), 0.5), np.ones((n - 2)), \n",
    "                        np.full((n - 2), 0.5)], [0, -1, -2], \n",
    "                        shape=(n, n - 2), format='csr')\n",
    "        I = I[:, ::2]\n",
    "        R = I.T / 2\n",
    "        if x0 is None:\n",
    "            x = np.zeros_like(b)\n",
    "        else:\n",
    "            x = x0.copy()\n",
    "        for i in range(nu1):\n",
    "            x = G.dot(x) + cG\n",
    "        r = b - A.dot(x)\n",
    "        rh = R.dot(r)\n",
    "        eh = np.zeros_like(rh)\n",
    "        for i in range(gamma):\n",
    "            eh = twogrid(R.dot(A.dot(I)), rh, nu1, nu2, gamma, eh)\n",
    "        e = I.dot(eh)\n",
    "        x += e\n",
    "        for i in range(nu2):\n",
    "            x = G.dot(x) + cG\n",
    "    return x"
   ]
  },
  {
   "cell_type": "code",
   "execution_count": 136,
   "metadata": {
    "collapsed": false
   },
   "outputs": [],
   "source": [
    "levels = 4                  # size of problem\n",
    "nu1 = 2                     # number of presmoothing iterations\n",
    "nu2 = 2                     # number of postsmoothing iterations\n",
    "gamma = 2                   # number of coarse grid iterations (1=V-cycle, 2=W-cycle)\n",
    "n = 2 ** (levels + 2) - 1   # number of grid points\n",
    "h = 1.0 / (n + 1)\n",
    "x = np.linspace(h, 1-h, n)\n",
    "f = np.pi ** 2 * (np.sin(np.pi * x) + 4 ** 2 * np.sin(np.pi * 4 * x) + \n",
    "                 9 ** 2 * np.sin(np.pi * 9 * x))\n",
    "A = sparse.diags([np.full((n), 2.), np.ones((n - 1)), \n",
    "              np.ones((n - 1))], [0, -1, 1], format='csr')\n",
    "b = f * h ** 2\n",
    "uc = linalg.spsolve(A, b)\n",
    "t = 0\n",
    "level = levels\n",
    "u = np.zeros_like(b)\n",
    "res_arr = []\n",
    "for i in range(10):\n",
    "    u = twogrid(A, b, nu1, nu2, gamma, u)\n",
    "    res_arr.append(np.linalg.norm(u - uc))\n",
    "res_arr = np.array(res_arr)"
   ]
  },
  {
   "cell_type": "code",
   "execution_count": 135,
   "metadata": {
    "collapsed": false
   },
   "outputs": [
    {
     "data": {
      "text/plain": [
       "array([ 0.75781283,  0.83743286,  0.84811031,  0.85331363,  0.85773524,\n",
       "        0.86226564,  0.86713171,  0.87238541,  0.87801416])"
      ]
     },
     "execution_count": 135,
     "metadata": {},
     "output_type": "execute_result"
    }
   ],
   "source": [
    "res_arr[1:] / res_arr[:-1]"
   ]
  },
  {
   "cell_type": "code",
   "execution_count": 137,
   "metadata": {
    "collapsed": false
   },
   "outputs": [
    {
     "data": {
      "text/plain": [
       "array([ 0.59946919,  0.66877525,  0.71745839,  0.76930543,  0.81903047,\n",
       "        0.85916544,  0.8875898 ,  0.90667305,  0.91963013])"
      ]
     },
     "execution_count": 137,
     "metadata": {},
     "output_type": "execute_result"
    }
   ],
   "source": [
    "res_arr[1:] / res_arr[:-1]"
   ]
  },
  {
   "cell_type": "code",
   "execution_count": 74,
   "metadata": {
    "collapsed": false
   },
   "outputs": [
    {
     "data": {
      "text/plain": [
       "array([[ 0.5,  0. ,  0. ,  0. ,  0. ],\n",
       "       [ 1. ,  0.5,  0. ,  0. ,  0. ],\n",
       "       [ 0.5,  1. ,  0.5,  0. ,  0. ],\n",
       "       [ 0. ,  0.5,  1. ,  0.5,  0. ],\n",
       "       [ 0. ,  0. ,  0.5,  1. ,  0.5],\n",
       "       [ 0. ,  0. ,  0. ,  0.5,  1. ],\n",
       "       [ 0. ,  0. ,  0. ,  0. ,  0.5]])"
      ]
     },
     "execution_count": 74,
     "metadata": {},
     "output_type": "execute_result"
    }
   ],
   "source": [
    "n = 7\n",
    "A = sparse.diags([np.full((n), 2.), np.ones((n - 1)), \n",
    "              np.ones((n - 1))], [0, -1, 1], format='csr')\n",
    "I = sparse.diags([np.full((n - 2), 0.5), np.ones((n - 2)), \n",
    "                    np.full((n - 2), 0.5)], [0, -1, -2], \n",
    "                    shape=(n, n - 2), format='csr').toarray()\n",
    "I"
   ]
  },
  {
   "cell_type": "code",
   "execution_count": null,
   "metadata": {
    "collapsed": true
   },
   "outputs": [],
   "source": []
  }
 ],
 "metadata": {
  "anaconda-cloud": {},
  "kernelspec": {
   "display_name": "Python 3",
   "language": "python",
   "name": "python3"
  },
  "language_info": {
   "codemirror_mode": {
    "name": "ipython",
    "version": 3
   },
   "file_extension": ".py",
   "mimetype": "text/x-python",
   "name": "python",
   "nbconvert_exporter": "python",
   "pygments_lexer": "ipython3",
   "version": "3.5.2"
  }
 },
 "nbformat": 4,
 "nbformat_minor": 1
}
