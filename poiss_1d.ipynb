{
 "cells": [
  {
   "cell_type": "code",
   "execution_count": 126,
   "metadata": {
    "collapsed": true
   },
   "outputs": [],
   "source": [
    "%matplotlib inline\n",
    "import numpy as np\n",
    "import tensorflow as tf\n",
    "import time\n",
    "import matplotlib.pyplot as plt\n",
    "import sys\n",
    "from scipy import sparse"
   ]
  },
  {
   "cell_type": "code",
   "execution_count": 127,
   "metadata": {
    "collapsed": true
   },
   "outputs": [],
   "source": [
    "def create_minus_Laplace_1d(n):\n",
    "    '''\n",
    "    Creates 1d n×n Laplacian\n",
    "    '''\n",
    "    main_diag = np.full(n, 2, dtype=float)\n",
    "    side_diag = np.full(n - 1, -1, dtype=float)\n",
    "    diags = [main_diag, side_diag, side_diag]\n",
    "    laplacian = sparse.diags(diags, [0, -1, 1], format='csr')\n",
    "    return laplacian.toarray()"
   ]
  },
  {
   "cell_type": "code",
   "execution_count": 128,
   "metadata": {
    "collapsed": true
   },
   "outputs": [],
   "source": [
    "def compute_Au_1d(U):\n",
    "    kernel = tf.reshape(tf.constant([-1., 2., -1.]), [3, 1, 1])\n",
    "    return tf.nn.conv1d(U, kernel, stride=1, padding='SAME')"
   ]
  },
  {
   "cell_type": "code",
   "execution_count": 129,
   "metadata": {
    "collapsed": true
   },
   "outputs": [],
   "source": [
    "def frobenius_norm(A):\n",
    "    return tf.sqrt(tf.reduce_sum(tf.square(A)))"
   ]
  },
  {
   "cell_type": "code",
   "execution_count": 225,
   "metadata": {
    "collapsed": false
   },
   "outputs": [],
   "source": [
    "def damped_jacobi_1d(b, init_U=None, max_iter=10, damping_factor=2./3):\n",
    "    '''\n",
    "    Computes damped Jacobi solution for 2d Poisson equations\n",
    "    Args:\n",
    "        b: A `Tensor` of (batch, n, 1) shape, \n",
    "            right-hand sides of equations\n",
    "        init_U: A `Tensor` of (batch, n, 1) shape,\n",
    "            initial guess for solution\n",
    "        max_iter: An `int`, \n",
    "            number of iterations\n",
    "    Returns:\n",
    "        A `Tensor` of (batch, n, 1) shape,\n",
    "            solution of 2d Poisson equation\n",
    "    '''\n",
    "    inv_d = 0.5\n",
    "    if init_U is None:\n",
    "        cur_U = tf.random_normal(tf.shape(b), mean=0, stddev=0.01)\n",
    "    else:\n",
    "        cur_U = tf.identity(init_U)\n",
    "    kernel = tf.reshape(tf.constant([-1., 0., -1.]), [3, 1, 1])\n",
    "    for i in range(max_iter):\n",
    "        Ru = tf.nn.conv1d(cur_U, kernel, stride=1, padding='SAME')\n",
    "        cur_U = damping_factor * inv_d * (b - Ru) + \\\n",
    "            (1 - damping_factor) * cur_U\n",
    "    return cur_U"
   ]
  },
  {
   "cell_type": "code",
   "execution_count": 226,
   "metadata": {
    "collapsed": true
   },
   "outputs": [],
   "source": [
    "# def gauss_seidel_1d(b, init_U=None, max_iter=10):\n",
    "#     n = tf.shape(b)[1]\n",
    "#     range_0_n = tf.reshape(tf.range(0, n, dtype=tf.int32), shape=[-1, 1])\n",
    "#     range_1_n = tf.reshape(tf.range(1, n, dtype=tf.int32), shape=[-1, 1])\n",
    "#     range_0_n_minus_1 = tf.reshape(tf.range(0, n - 1, dtype=tf.int32), shape=[-1, 1])\n",
    "#     indices_1 = tf.concat(1, [range_0_n, range_0_n])\n",
    "#     indices_2 = tf.concat(1, [range_1_n, range_0_n_minus_1])\n",
    "#     indices = tf.concat(0, [indices_1, indices_2])\n",
    "#     indices = tf.to_int64(indices)\n",
    "#     values = tf.concat(0, [tf.fill(tf.shape(b)[1:2], -2.), \n",
    "#                            tf.ones(tf.shape(b)[1:2] - 1)])\n",
    "#     return tf.SparseTensor(indices, values, shape=(n, n))"
   ]
  },
  {
   "cell_type": "code",
   "execution_count": 227,
   "metadata": {
    "collapsed": true
   },
   "outputs": [],
   "source": [
    "def compute_R(U, R):\n",
    "    '''\n",
    "    Computes restriction of U\n",
    "    Args:\n",
    "        U: A `Tensor` of (batch, 2 ** n - 1, 1) shape,\n",
    "            data to convolve\n",
    "        R: A `Tensor` of (3, 1, 1) shape,\n",
    "            restriction operator stencil\n",
    "    Returns:\n",
    "        A `Tensor` of (batch, 2 ** (n - 1) - 1, 1) shape\n",
    "    '''\n",
    "    return tf.nn.conv1d(U, R, stride=2, padding='VALID')\n",
    "\n",
    "def compute_P(U, P):\n",
    "    '''\n",
    "    Computes prolongation of U\n",
    "    Args:\n",
    "        U: A `Tensor` of (batch, 2 ** n - 1, 1) shape,\n",
    "            data to convolve\n",
    "        P: A `Tensor` of (3, 1, 1) shape,\n",
    "            projection operator stencil\n",
    "    Returns:\n",
    "        A `Tensor` of (batch, 2 ** (n + 1) - 1, 1) shape\n",
    "    '''\n",
    "    batch = tf.to_int32(tf.shape(U)[0:1])\n",
    "    dim = (tf.to_int32(tf.shape(U)[1:2]) + 1) * 2 - 1\n",
    "    other = tf.constant([1, 1], dtype=tf.int32)\n",
    "    output_shape = tf.concat(0, [batch, dim, other])\n",
    "    U = tf.reshape(U, [batch[0], -1, 1, 1])\n",
    "    P = tf.reshape(P, [3, 1, 1, 1])\n",
    "    Pu = tf.nn.conv2d_transpose(U, P, output_shape=output_shape, \n",
    "                                  strides=[1, 2, 2, 1], padding='VALID')\n",
    "    return tf.reshape(Pu, [batch[0], -1, 1])"
   ]
  },
  {
   "cell_type": "code",
   "execution_count": 228,
   "metadata": {
    "collapsed": true
   },
   "outputs": [],
   "source": [
    "def multigrid(n_cycles, n, level, b, init_U=None, P=None, R=None, smoother_iter=2):\n",
    "    '''\n",
    "    Computes multigrid solution of 2d Poisson equation\n",
    "    Args:\n",
    "        n_cycles: An `int`, \n",
    "            number of V-cycles,\n",
    "        n: An `int`,\n",
    "        b and init_U have shape (batch, n, 1)\n",
    "        other args are the same as in V_cycle function\n",
    "    Returns:\n",
    "        A `Tensor` of (batch, n, 1) shape,\n",
    "        multigrid solution\n",
    "    '''\n",
    "    batch = tf.shape(b)[0]\n",
    "    b = tf.reshape(b, (batch, n, 1))\n",
    "    if init_U is None:\n",
    "        init_U = tf.random_normal((tf.shape(b)), stddev=0.01)\n",
    "    else:\n",
    "        init_U = tf.reshape(init_U, (batch, n, 1))\n",
    "    if P is None:\n",
    "        P = tf.reshape((tf.constant([1., 2., 1.])) /  2, [3, 1, 1])\n",
    "    if R is None:\n",
    "        R = tf.reshape((tf.constant([1., 2., 1.])) /  4, [3, 1, 1])\n",
    "    discrete_laplace = tf.constant(create_minus_Laplace_1d(\n",
    "            2 ** int((np.log2(n + 1) - level + 1)) - 1), dtype=tf.float32)\n",
    "    chol = tf.cholesky(discrete_laplace)\n",
    "    for cycle_idx in range(n_cycles):\n",
    "        init_U = V_cycle(level, b, chol, init_U, P, R, smoother_iter)\n",
    "    return init_U"
   ]
  },
  {
   "cell_type": "code",
   "execution_count": 229,
   "metadata": {
    "collapsed": true
   },
   "outputs": [],
   "source": [
    "def V_cycle(level, b, chol, init_U=None, P=None, R=None, smoother_iter=3):\n",
    "    '''\n",
    "    Applies one multigrid V-cycle to Poisson 2d equation\n",
    "    Args:\n",
    "        level: An `int`, \n",
    "            number of multigrid levels\n",
    "        b: A `Tensor` of (batch, n, 1) shape, \n",
    "            right-hand sides of equations\n",
    "        chol: A `Tensor` of (n, n) shape,\n",
    "            laplacian for the last MG level cholesky L\n",
    "        init_U: A `Tensor` of (batch, n, 1) shape or None,\n",
    "            initial guess for solution, \n",
    "            if init_U is None, it will be random\n",
    "        P: A `Tensor` variable of (3, 1, 1) shape,Или с семи, чтобы же\n",
    "            prolongation operator stencil\n",
    "        R: A `Tensor` variable of (3, 1, 1) shape,\n",
    "            restriction operator stencil\n",
    "        smoother_iter: An `int`,\n",
    "            number of smoother iterations\n",
    "    Returns:\n",
    "        A `Tensor` of (batch, n, 1) shape,\n",
    "        multigrid solution\n",
    "    '''\n",
    "    if init_U is None:\n",
    "        init_U = tf.random_normal((tf.shape(b)), stddev=0.01)\n",
    "    if level == 1:\n",
    "        multiples = tf.concat(0, [tf.shape(b)[0:1], tf.constant([1, 1])])\n",
    "        tiled_chol = tf.tile(tf.expand_dims(chol, axis=0), multiples)\n",
    "        new_U = tf.cholesky_solve(tiled_chol, b)\n",
    "    else:\n",
    "        U = damped_jacobi_1d(b, init_U, max_iter=smoother_iter)\n",
    "        Au = compute_Au_1d(U)\n",
    "        res = compute_R(b - Au, R)\n",
    "        e = tf.zeros_like(res)\n",
    "        e = V_cycle(level - 1, b=res, chol=chol, init_U=e , P=P, R=R, \n",
    "                    smoother_iter=smoother_iter)\n",
    "        e = tf.reshape(e, tf.shape(res))\n",
    "        new_U = U + compute_P(e, P)\n",
    "        new_U = damped_jacobi_1d(b, new_U, max_iter=smoother_iter)\n",
    "    return new_U"
   ]
  },
  {
   "cell_type": "code",
   "execution_count": 230,
   "metadata": {
    "collapsed": false
   },
   "outputs": [],
   "source": [
    "n = 15\n",
    "P = tf.reshape(tf.constant([1., 2., 1.]) / 2, (3, 1, 1))\n",
    "R = tf.identity(P) / 2\n",
    "batch = 1\n",
    "b = tf.ones((batch, n, 1))\n",
    "U = tf.zeros((batch, n, 1))\n",
    "multigrid_U = multigrid(n_cycles=1, level=2, n=n, b=b)\n",
    "res = frobenius_norm(b - compute_Au_1d(multigrid_U))\n",
    "with tf.Session() as sess:\n",
    "    #sol = sess.run(multigrid_U)\n",
    "    np_res = sess.run(res)"
   ]
  },
  {
   "cell_type": "code",
   "execution_count": 231,
   "metadata": {
    "collapsed": false
   },
   "outputs": [],
   "source": [
    "n = 15\n",
    "b = tf.ones((batch, n, 1))\n",
    "U = tf.zeros((batch, n, 1))\n",
    "res_arr = []\n",
    "sol_arr = []\n",
    "for n_iter in range(20):\n",
    "    res_arr.append(frobenius_norm(compute_Au_1d(U) - b) / frobenius_norm(b))\n",
    "    U = multigrid(n_cycles=1, n=n, level=2, b=b, smoother_iter=2, P=P, R=R, init_U=U)\n",
    "    sol_arr.append(U)\n",
    "res_arr.append(frobenius_norm(compute_Au_1d(U) - b) / frobenius_norm(b))\n",
    "with tf.Session() as sess:\n",
    "    np_res = np.array(sess.run(res_arr))\n",
    "    np_sol = sess.run(sol_arr)"
   ]
  },
  {
   "cell_type": "code",
   "execution_count": 232,
   "metadata": {
    "collapsed": false
   },
   "outputs": [
    {
     "data": {
      "text/plain": [
       "array([ 0.67905724,  0.70483512,  0.71042496,  0.71272713,  0.71375304,\n",
       "        0.71421492,  0.71442205,  0.71451622,  0.71455574,  0.71457273,\n",
       "        0.71458685,  0.71458602,  0.71456534,  0.71460563,  0.71460378,\n",
       "        0.71459621,  0.71447265,  0.71460599,  0.71469879,  0.71455008], dtype=float32)"
      ]
     },
     "execution_count": 232,
     "metadata": {},
     "output_type": "execute_result"
    }
   ],
   "source": [
    "np_res[1:] / np_res[:-1]"
   ]
  },
  {
   "cell_type": "code",
   "execution_count": null,
   "metadata": {
    "collapsed": true
   },
   "outputs": [],
   "source": []
  }
 ],
 "metadata": {
  "kernelspec": {
   "display_name": "Python 3",
   "language": "python",
   "name": "python3"
  },
  "language_info": {
   "codemirror_mode": {
    "name": "ipython",
    "version": 3
   },
   "file_extension": ".py",
   "mimetype": "text/x-python",
   "name": "python",
   "nbconvert_exporter": "python",
   "pygments_lexer": "ipython3",
   "version": "3.5.2"
  }
 },
 "nbformat": 4,
 "nbformat_minor": 1
}
