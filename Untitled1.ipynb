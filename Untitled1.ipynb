{
 "cells": [
  {
   "cell_type": "code",
   "execution_count": 2,
   "metadata": {
    "collapsed": false,
    "nbpresent": {
     "id": "5173f000-8203-4904-8255-b367a687f5f8"
    }
   },
   "outputs": [],
   "source": [
    "%matplotlib inline\n",
    "import numpy as np\n",
    "import tensorflow as tf\n",
    "import time\n",
    "import matplotlib.pyplot as plt\n",
    "import sys\n",
    "from scipy.signal import convolve2d\n",
    "from scipy import sparse"
   ]
  },
  {
   "cell_type": "code",
   "execution_count": 3,
   "metadata": {
    "collapsed": true
   },
   "outputs": [],
   "source": [
    "def create_minus_Laplace_2d(m, n):\n",
    "    '''\n",
    "    Creates 2d Laplacian matrix for m × n problem\n",
    "    '''\n",
    "    N = m * n\n",
    "    main_diag = np.full(N, 4, dtype=float)\n",
    "    side_diag = np.full(N - 1, -1, dtype=float)\n",
    "    side_diag[np.arange(1, N) % m == 0] = 0\n",
    "    up_down_diag = np.full(N - m, -1, dtype=float)\n",
    "    diags = [main_diag, side_diag, side_diag, up_down_diag, up_down_diag]\n",
    "    laplacian = sparse.diags(diags, [0, -1, 1, m, -m], format='csr')\n",
    "    return laplacian.toarray()"
   ]
  },
  {
   "cell_type": "code",
   "execution_count": 4,
   "metadata": {
    "collapsed": false
   },
   "outputs": [],
   "source": [
    "def np_jacobi_2d(b, init_U=None, max_iter=10):\n",
    "    '''\n",
    "    Numpy version of jacobi_2d without multiple batches\n",
    "    '''\n",
    "    inv_d = 1.0 / 4\n",
    "    kernel = np.array([-1, 0, -1], 'float')[:, np.newaxis]\n",
    "    if init_U is None:\n",
    "        cur_U = np.random.normal(scale=0.01, size=b.shape)\n",
    "    else:\n",
    "        cur_U = init_U.copy()\n",
    "    for n_iter in range(max_iter):\n",
    "        prev_U = cur_U.copy()\n",
    "        diag_block = convolve2d(cur_U[:, :, 0], kernel, mode='same')\n",
    "        nondiag_block = np.hstack((cur_U[:, 1:2, 0], \n",
    "                                   cur_U[:, 0:-2, 0] + cur_U[:, 2:, 0],\n",
    "                                   cur_U[:, -2:-1, 0]))\n",
    "        print(diag_block.shape)\n",
    "        cur_U = (b - diag_block + nondiag_block)\n",
    "    return cur_U"
   ]
  },
  {
   "cell_type": "code",
   "execution_count": 7,
   "metadata": {
    "collapsed": false,
    "nbpresent": {
     "id": "4ceec817-a13d-4ea7-855c-06d0a8aa8071"
    }
   },
   "outputs": [],
   "source": [
    "def jacobi_2d(b, init_U=None, max_iter=10):\n",
    "    '''\n",
    "    Computes Jacobi solution for 2d Poisson equations\n",
    "    Args:\n",
    "        b: A `Tensor` of (batch, m, n, 1) shape, \n",
    "            right-hand sides of equations\n",
    "        init_U: A `Tensor` of (batch, m, n, 1) shape,\n",
    "            initial guess for solution\n",
    "        max_iter: An `int`, \n",
    "            number of iterations\n",
    "    Returns:\n",
    "        A `tensor` of (batch, m, n, 1) shape,\n",
    "            solution of 2d Poisson equation\n",
    "    '''\n",
    "    inv_d = 1.0 / 4  # inverted A's diagonal element\n",
    "    if init_U is None:\n",
    "        cur_U = tf.random_normal(tf.shape(b), mean=0, stddev=0.01)\n",
    "    else:\n",
    "        cur_U = tf.identity(init_U)\n",
    "    kernel = tf.reshape(tf.constant([-1, 0, -1], 'float'), [3, 1, 1, 1])\n",
    "    for n_iter in range(max_iter):\n",
    "        prev_U = tf.identity(cur_U)\n",
    "        diag_block = tf.nn.conv2d(cur_U, kernel, strides=[1, 1, 1, 1], padding='SAME')\n",
    "        nondiag_block = tf.concat(2, [cur_U[:, :, 1:2, :], \n",
    "                                      (cur_U[:, :, 0:-2, :] + cur_U[:, :, 2:, :]), \n",
    "                                      cur_U[:, :, -2:-1, :]])\n",
    "        cur_U = (b - diag_block + nondiag_block) * inv_d\n",
    "    return cur_U\n",
    "\n",
    "def compute_2d_laplacian_convolution(U):\n",
    "    '''\n",
    "    Computes \"matvec\" for 2d laplacian\n",
    "    Args:\n",
    "        U: A `Tensor` of (batch, m, n, 1) or (batch, m, n) shape\n",
    "    Returns:\n",
    "        A `Tensor` of (batch, m, n, 1) shape\n",
    "    '''\n",
    "    batch = tf.shape(U)[0]\n",
    "    m = tf.shape(U)[1]\n",
    "    n = tf.shape(U)[2]\n",
    "    U = tf.reshape(U, (batch, m, n, 1))\n",
    "    kernel = tf.reshape(tf.constant([-1, 4, -1], 'float'), [3, 1, 1, 1])\n",
    "    diag_block = tf.nn.conv2d(U, kernel, strides=[1, 1, 1, 1], padding='SAME')\n",
    "    nondiag_block = tf.concat(2, [U[:, :, 1:2, :], \n",
    "                                      (U[:, :, 0:-2, :] + U[:, :, 2:, :]), \n",
    "                                      U[:, :, -2:-1, :]])\n",
    "    return diag_block - nondiag_block\n",
    "\n",
    "def compute_R(U, R):\n",
    "    '''\n",
    "    Computes restriction of U\n",
    "    Args:\n",
    "        U: A `Tensor` of (batch, 2 ** m - 1, 2 ** n - 1, 1) shape,\n",
    "            data to convolve\n",
    "        R: A `Tensor` of (1, 3, 3, 1) shape,\n",
    "            restriction operator stencil\n",
    "    Returns:\n",
    "        A `Tensor` of (batch, 2 ** (m - 1) - 1, 2 ** (n - 1) - 1, 1) shape\n",
    "    '''\n",
    "    return tf.nn.conv2d(U, R, strides=[1, 2, 2, 1], padding='VALID')\n",
    "\n",
    "def compute_P(U, P):\n",
    "    '''\n",
    "    Computes prolongation of U\n",
    "    Args:\n",
    "        U: A `Tensor` of (batch, 2 ** m - 1, 2 ** n - 1, 1) shape,\n",
    "            data to convolve\n",
    "        P: A `Tensor` of (1, 3, 3, 1) shape,\n",
    "            projection operator stencil\n",
    "    Returns:\n",
    "        A `Tensor` of (batch, 2 ** (m + 1) - 1, 2 ** (n + 1) - 1, 1) shape\n",
    "    '''\n",
    "    a_shape = tf.to_int32(tf.shape(U)[0:1])\n",
    "    b_shape = tf.to_int32((tf.shape(U)[1:3] + 1) * 2 - 1)\n",
    "    c_shape = tf.constant([1], dtype=tf.int32)\n",
    "    output_shape = tf.concat(0, [a_shape, b_shape, c_shape])\n",
    "    return tf.nn.conv2d_transpose(U, P, output_shape=output_shape, \n",
    "                                  strides=[1, 2, 2, 1], padding='VALID')\n",
    "\n",
    "def V_cycle(level, b, chol, init_U=None, P=None, R=None, smoother_iter=3):\n",
    "    '''\n",
    "    Applies one multigrid V-cycle to Poisson 2d equation\n",
    "    Args:\n",
    "        level: An `int`, \n",
    "            number of multigrid levels\n",
    "        b: A `Tensor` of (batch, m, n) shape, \n",
    "            right-hand sides of equations\n",
    "        chol: A `Tensor` of (m * n, m * n) shape,\n",
    "            laplacian for the last MG level cholesky L\n",
    "        init_U: A `Tensor` of (batch, m, n) shape or None,\n",
    "            initial guess for solution, \n",
    "            if init_U is None, it will be random\n",
    "        P: A `Tensor` variable of (3, 3, 1, 1) shape,Или с семи, чтобы же\n",
    "            prolongation operator stencil\n",
    "        R: A `Tensor` variable of (3, 3, 1, 1) shape,\n",
    "            restriction operator stencil\n",
    "        smoother_iter: An `int`,\n",
    "            number of smoother iterations\n",
    "    Returns:\n",
    "        A `Tensor` of (batch, m, n) shape,\n",
    "        multigrid solution\n",
    "    '''\n",
    "    if init_U is None:\n",
    "        init_U = tf.random_normal((tf.shape(reshaped_b)), stddev=0.01)\n",
    "    if level == 1:\n",
    "        batch = tf.shape(b)[0]\n",
    "        reshaped_b = tf.reshape(b, (batch, -1, 1))\n",
    "        multiples = tf.concat(0, [tf.shape(b)[0:1], tf.constant([1, 1])])\n",
    "        tiled_chol = tf.tile(tf.expand_dims(chol, axis=0), multiples)\n",
    "        new_U = tf.cholesky_solve(tiled_chol, reshaped_b)\n",
    "    else:\n",
    "        U = jacobi_2d(b, init_U, max_iter=smoother_iter)\n",
    "        Au = compute_2d_laplacian_convolution(U)\n",
    "        res = compute_R(Au - b, R)\n",
    "        e = tf.zeros_like(res)\n",
    "        e = V_cycle(level - 1, b=res, chol=chol, init_U=e , P=P, R=R, \n",
    "                    smoother_iter=smoother_iter)\n",
    "        e = tf.reshape(e, tf.shape(res))\n",
    "        new_U = U + compute_P(e, P)\n",
    "    return new_U\n",
    "    \n",
    "def multigrid(n_cycles, m, n, level, b, init_U=None, P=None, R=None, smoother_iter=3):\n",
    "    '''\n",
    "    Computes multigrid solution of 2d Poisson equation\n",
    "    Args:\n",
    "        n_cycles: An `int`, \n",
    "            number of V-cycles,\n",
    "        m, n: integers,\n",
    "        b and init_U have shape (batch, m, n)\n",
    "        other args are the same as in V_cycle function\n",
    "    Returns:\n",
    "        A `Tensor` of (batch, m, n) shape,\n",
    "        multigrid solution\n",
    "    '''\n",
    "    batch = tf.shape(b)[0]\n",
    "    b = tf.reshape(b, (batch, m, n, 1))\n",
    "    if init_U is None:\n",
    "        init_U = tf.random_normal((tf.shape(b)), stddev=0.01)\n",
    "    else:\n",
    "        init_U = init_U.reshape(init_U, (batch, m, n, 1))\n",
    "    if P is None:\n",
    "        P = tf.reshape(tf.Variable(tf.constant(np.array([\n",
    "                        [1, 2, 1],\n",
    "                        [2, 4, 2],\n",
    "                        [1, 2, 1]\n",
    "                    ]), dtype='float')) /  4., [3, 3, 1, 1])\n",
    "    if R is None:\n",
    "        R = tf.reshape(tf.Variable(tf.constant(np.array([\n",
    "                        [1, 2, 1],\n",
    "                        [2, 4, 2],\n",
    "                        [1, 2, 1]\n",
    "                    ]), dtype='float')) / 16., [3, 3, 1, 1])\n",
    "    discrete_laplace = tf.constant(create_minus_Laplace_2d(2 ** int((np.log2(m + 1) - level + 1)) - 1, \n",
    "                                          2 ** int((np.log2(n + 1) - level + 1)) - 1), \n",
    "                        dtype=tf.float32)\n",
    "    chol = tf.cholesky(discrete_laplace)\n",
    "    for cycle_idx in range(n_cycles):\n",
    "        init_U = V_cycle(level, b, chol, init_U, P, R, smoother_iter)\n",
    "    return init_U"
   ]
  },
  {
   "cell_type": "code",
   "execution_count": 16,
   "metadata": {
    "collapsed": true
   },
   "outputs": [],
   "source": [
    "def frobenius_norm(A):\n",
    "    return tf.sqrt(tf.reduce_sum(tf.square(A)))"
   ]
  },
  {
   "cell_type": "code",
   "execution_count": 8,
   "metadata": {
    "collapsed": false
   },
   "outputs": [
    {
     "data": {
      "text/plain": [
       "(961, 961)"
      ]
     },
     "execution_count": 8,
     "metadata": {},
     "output_type": "execute_result"
    }
   ],
   "source": [
    "create_minus_Laplace_2d(31, 31).shape"
   ]
  },
  {
   "cell_type": "code",
   "execution_count": 40,
   "metadata": {
    "collapsed": false,
    "nbpresent": {
     "id": "a0fedba9-8b9d-4db3-972f-3fba98a34bdd"
    }
   },
   "outputs": [
    {
     "name": "stdout",
     "output_type": "stream",
     "text": [
      "28936.1 2596.72\n",
      "4.60746 0.413474\n"
     ]
    }
   ],
   "source": [
    "# Check numerical multigrid results:\n",
    "batch = 3\n",
    "m = 63\n",
    "n = 63\n",
    "P = tf.reshape(tf.Variable(tf.constant(np.array([\n",
    "                        [1, 2, 1],\n",
    "                        [2, 4, 2],\n",
    "                        [1, 2, 1]\n",
    "                    ]), dtype='float')) /  4., [3, 3, 1, 1])\n",
    "R = tf.reshape(tf.Variable(tf.constant(np.array([\n",
    "                        [1, 2, 1],\n",
    "                        [2, 4, 2],\n",
    "                        [1, 2, 1]\n",
    "                    ]), dtype='float')) / 16., [3, 3, 1, 1])\n",
    "b = tf.constant(np.random.uniform(-100, 100, (m * n * batch)).reshape(batch, m, n, 1), dtype=tf.float32)\n",
    "U = tf.constant(np.random.uniform(-100, 100, (m * n * batch)).reshape(batch, m, n, 1), dtype=tf.float32)\n",
    "res_before = frobenius_norm(compute_2d_laplacian_convolution(U) - b)\n",
    "norm_res_before = res_before / frobenius_norm(b)\n",
    "multigrid_U = multigrid(n_cycles=10, m=m, n=n, level=2\n",
    "                        , b=b, smoother_iter=5, P=P, R=R)\n",
    "res_after = frobenius_norm(compute_2d_laplacian_convolution(multigrid_U) - b)\n",
    "norm_res_after = res_after / frobenius_norm(b)\n",
    "init_op = tf.global_variables_initializer()\n",
    "with tf.Session(config=tf.ConfigProto(intra_op_parallelism_threads=4)) as sess:\n",
    "    sess.run(init_op)\n",
    "    print(sess.run(res_before), sess.run(res_after))\n",
    "    print(sess.run(norm_res_before), sess.run(norm_res_after))  "
   ]
  },
  {
   "cell_type": "code",
   "execution_count": 74,
   "metadata": {
    "collapsed": false,
    "nbpresent": {
     "id": "aaf6bd70-76b7-49c0-9baa-7279ddee6447"
    }
   },
   "outputs": [
    {
     "name": "stdout",
     "output_type": "stream",
     "text": [
      "(50, 7, 7, 1)\n",
      "(50, 15, 15, 1)\n"
     ]
    }
   ],
   "source": [
    "# Check compute_P:\n",
    "P = tf.reshape(tf.Variable(tf.constant(np.array([\n",
    "                        [1, 2, 1],\n",
    "                        [2, 4, 2],\n",
    "                        [1, 2, 1]\n",
    "                    ]), dtype='float')) / 16., [3, 3, 1, 1])\n",
    "U = tf.placeholder('float')\n",
    "np_data = np.random.random((50, 7, 7, 1))\n",
    "print(np_data.shape)\n",
    "init_op = tf.global_variables_initializer()\n",
    "with tf.Session() as sess:\n",
    "    sess.run(init_op)\n",
    "    projection = sess.run(compute_P(U, P), feed_dict={U: np_data})\n",
    "    print(projection.shape)"
   ]
  },
  {
   "cell_type": "code",
   "execution_count": 73,
   "metadata": {
    "collapsed": false,
    "nbpresent": {
     "id": "15e24c55-2022-4991-9150-f81bc73a1e9a"
    }
   },
   "outputs": [
    {
     "name": "stdout",
     "output_type": "stream",
     "text": [
      "(50, 7, 7, 1)\n",
      "(50, 3, 3, 1)\n"
     ]
    }
   ],
   "source": [
    "# Check compute_R:\n",
    "P = tf.reshape(tf.Variable(tf.constant(np.array([\n",
    "                        [1, 2, 1],\n",
    "                        [2, 4, 2],\n",
    "                        [1, 2, 1]\n",
    "                    ]), dtype='float')) / 16., [3, 3, 1, 1])\n",
    "U = tf.placeholder('float')\n",
    "np_data = np.random.random((50, 7, 7, 1))\n",
    "print(np_data.shape)\n",
    "init_op = tf.global_variables_initializer()\n",
    "with tf.Session() as sess:\n",
    "    sess.run(init_op)\n",
    "    restriction = sess.run(compute_R(U, R), feed_dict={U: np_data})\n",
    "    print(restriction.shape)"
   ]
  },
  {
   "cell_type": "code",
   "execution_count": 14,
   "metadata": {
    "collapsed": false,
    "nbpresent": {
     "id": "587a96aa-5e72-4a2c-bcd5-bb3099401beb"
    }
   },
   "outputs": [],
   "source": [
    "# check compute_2d_laplacian_convolution:\n",
    "batch = 1\n",
    "m = 3\n",
    "n = 4\n",
    "data = tf.ones((batch, m, n, 1))\n",
    "b = compute_2d_laplacian_convolution(data)\n",
    "with tf.Session() as sess:\n",
    "    tmp = sess.run(b)"
   ]
  },
  {
   "cell_type": "code",
   "execution_count": 13,
   "metadata": {
    "collapsed": false,
    "nbpresent": {
     "id": "86245d77-c446-476c-9c3c-995ad7a6c26d"
    }
   },
   "outputs": [
    {
     "name": "stdout",
     "output_type": "stream",
     "text": [
      "[[ 2.  1.  1.  2.]\n",
      " [ 1.  0.  0.  1.]\n",
      " [ 2.  1.  1.  2.]]\n"
     ]
    }
   ],
   "source": [
    "print(tmp[0, :, :, 0])"
   ]
  }
 ],
 "metadata": {
  "anaconda-cloud": {},
  "kernelspec": {
   "display_name": "tfkernel",
   "language": "python",
   "name": "tfkernel"
  },
  "language_info": {
   "codemirror_mode": {
    "name": "ipython",
    "version": 3
   },
   "file_extension": ".py",
   "mimetype": "text/x-python",
   "name": "python",
   "nbconvert_exporter": "python",
   "pygments_lexer": "ipython3",
   "version": "3.5.2"
  },
  "nbpresent": {
   "slides": {
    "2056bf8b-94e8-40e6-80c7-a85648a3cb17": {
     "id": "2056bf8b-94e8-40e6-80c7-a85648a3cb17",
     "prev": "3d24accc-5d30-4700-815e-4dc38b0dc5a3",
     "regions": {
      "d516cac1-9c40-477e-935b-d016dde17276": {
       "attrs": {
        "height": 0.8,
        "width": 0.8,
        "x": 0.1,
        "y": 0.1
       },
       "content": {
        "cell": "f167cadb-34c5-4f3c-bc90-8c5868c32779",
        "part": "whole"
       },
       "id": "d516cac1-9c40-477e-935b-d016dde17276"
      }
     }
    },
    "37da45c0-aaa3-4e4c-8245-ce0da7171648": {
     "id": "37da45c0-aaa3-4e4c-8245-ce0da7171648",
     "prev": "4421b1de-d811-42b3-9286-d62a855926fc",
     "regions": {
      "19818105-9a09-40f8-9d32-ca2a668c69aa": {
       "attrs": {
        "height": 0.8,
        "width": 0.8,
        "x": 0.1,
        "y": 0.1
       },
       "content": {
        "cell": "1ae1b4bd-b8cb-4de5-a699-5429acaa6a9a",
        "part": "whole"
       },
       "id": "19818105-9a09-40f8-9d32-ca2a668c69aa"
      }
     }
    },
    "3d24accc-5d30-4700-815e-4dc38b0dc5a3": {
     "id": "3d24accc-5d30-4700-815e-4dc38b0dc5a3",
     "prev": "d5bb88c9-b89e-41bb-bbc1-a0a8ec45326b",
     "regions": {
      "7d5552f6-7214-41e0-95e0-5db165f34af9": {
       "attrs": {
        "height": 0.8,
        "width": 0.8,
        "x": 0.1,
        "y": 0.1
       },
       "content": {
        "cell": "4a8f9f75-49d3-4264-9a7d-ac977653adba",
        "part": "whole"
       },
       "id": "7d5552f6-7214-41e0-95e0-5db165f34af9"
      }
     }
    },
    "3fec71e0-b39c-4857-bd50-40fb3f953766": {
     "id": "3fec71e0-b39c-4857-bd50-40fb3f953766",
     "prev": "e33c6fc6-b623-49f1-9c51-28cda1846cb1",
     "regions": {
      "f0b379b4-d0bc-4fc1-8a13-2ae694dfc4b0": {
       "attrs": {
        "height": 0.8,
        "width": 0.8,
        "x": 0.1,
        "y": 0.1
       },
       "content": {
        "cell": "15b56ff4-355f-4521-add9-fd224c12f8d1",
        "part": "whole"
       },
       "id": "f0b379b4-d0bc-4fc1-8a13-2ae694dfc4b0"
      }
     }
    },
    "4421b1de-d811-42b3-9286-d62a855926fc": {
     "id": "4421b1de-d811-42b3-9286-d62a855926fc",
     "prev": "d0bd0494-109e-4b94-9544-d794777933fd",
     "regions": {
      "0024a8d6-0942-4704-905e-bd3e4d7b1989": {
       "attrs": {
        "height": 0.8,
        "width": 0.8,
        "x": 0.1,
        "y": 0.1
       },
       "content": {
        "cell": "86245d77-c446-476c-9c3c-995ad7a6c26d",
        "part": "whole"
       },
       "id": "0024a8d6-0942-4704-905e-bd3e4d7b1989"
      }
     }
    },
    "a5866e83-7a9b-44d0-847c-881d34a11747": {
     "id": "a5866e83-7a9b-44d0-847c-881d34a11747",
     "prev": "e7b7f8c7-7b35-4140-a3c9-caf1f69a88d3",
     "regions": {
      "4bc527e0-1119-4858-aab4-e6fa839a82a1": {
       "attrs": {
        "height": 0.8,
        "width": 0.8,
        "x": 0.1,
        "y": 0.1
       },
       "content": {
        "cell": "1ffca311-51c5-4275-b9ec-ab2983ec0a6b",
        "part": "whole"
       },
       "id": "4bc527e0-1119-4858-aab4-e6fa839a82a1"
      }
     }
    },
    "bba85ec7-b51f-4156-b074-9592db3ff90a": {
     "id": "bba85ec7-b51f-4156-b074-9592db3ff90a",
     "prev": "2056bf8b-94e8-40e6-80c7-a85648a3cb17",
     "regions": {
      "cfb655f6-6df5-4c58-9b46-942de287d011": {
       "attrs": {
        "height": 0.8,
        "width": 0.8,
        "x": 0.1,
        "y": 0.1
       },
       "content": {
        "cell": "397292b0-eace-4c8a-8237-a521a04a8628",
        "part": "whole"
       },
       "id": "cfb655f6-6df5-4c58-9b46-942de287d011"
      }
     }
    },
    "c0a6f411-d634-4a6f-91eb-4ab0b2cf60f2": {
     "id": "c0a6f411-d634-4a6f-91eb-4ab0b2cf60f2",
     "prev": "c4f453a3-8920-4054-bf21-d6866d31be4d",
     "regions": {
      "6d3616bd-5c66-469c-a8b7-a71852d34386": {
       "attrs": {
        "height": 0.8,
        "width": 0.8,
        "x": 0.1,
        "y": 0.1
       },
       "content": {
        "cell": "15e24c55-2022-4991-9150-f81bc73a1e9a",
        "part": "whole"
       },
       "id": "6d3616bd-5c66-469c-a8b7-a71852d34386"
      }
     }
    },
    "c4f453a3-8920-4054-bf21-d6866d31be4d": {
     "id": "c4f453a3-8920-4054-bf21-d6866d31be4d",
     "prev": "f320fa10-590c-444c-8fd6-3bce3d5a22d1",
     "regions": {
      "41742945-0ff7-468e-9984-885c151683ea": {
       "attrs": {
        "height": 0.8,
        "width": 0.8,
        "x": 0.1,
        "y": 0.1
       },
       "content": {
        "cell": "aaf6bd70-76b7-49c0-9baa-7279ddee6447",
        "part": "whole"
       },
       "id": "41742945-0ff7-468e-9984-885c151683ea"
      }
     }
    },
    "d0bd0494-109e-4b94-9544-d794777933fd": {
     "id": "d0bd0494-109e-4b94-9544-d794777933fd",
     "prev": "c0a6f411-d634-4a6f-91eb-4ab0b2cf60f2",
     "regions": {
      "2ab5a6c7-c81b-4e14-a2df-2fae3158b67b": {
       "attrs": {
        "height": 0.8,
        "width": 0.8,
        "x": 0.1,
        "y": 0.1
       },
       "content": {
        "cell": "587a96aa-5e72-4a2c-bcd5-bb3099401beb",
        "part": "whole"
       },
       "id": "2ab5a6c7-c81b-4e14-a2df-2fae3158b67b"
      }
     }
    },
    "d5bb88c9-b89e-41bb-bbc1-a0a8ec45326b": {
     "id": "d5bb88c9-b89e-41bb-bbc1-a0a8ec45326b",
     "prev": "3fec71e0-b39c-4857-bd50-40fb3f953766",
     "regions": {
      "969c44f6-9df3-4d46-b3df-8d686b365e3d": {
       "attrs": {
        "height": 0.8,
        "width": 0.8,
        "x": 0.1,
        "y": 0.1
       },
       "content": {
        "cell": "a0fedba9-8b9d-4db3-972f-3fba98a34bdd",
        "part": "whole"
       },
       "id": "969c44f6-9df3-4d46-b3df-8d686b365e3d"
      }
     }
    },
    "e33c6fc6-b623-49f1-9c51-28cda1846cb1": {
     "id": "e33c6fc6-b623-49f1-9c51-28cda1846cb1",
     "prev": "a5866e83-7a9b-44d0-847c-881d34a11747",
     "regions": {
      "1b96712c-23cf-432b-9297-3dd48da4af16": {
       "attrs": {
        "height": 0.8,
        "width": 0.8,
        "x": 0.1,
        "y": 0.1
       },
       "content": {
        "cell": "4ceec817-a13d-4ea7-855c-06d0a8aa8071",
        "part": "whole"
       },
       "id": "1b96712c-23cf-432b-9297-3dd48da4af16"
      }
     }
    },
    "e7b7f8c7-7b35-4140-a3c9-caf1f69a88d3": {
     "id": "e7b7f8c7-7b35-4140-a3c9-caf1f69a88d3",
     "prev": null,
     "regions": {
      "1075589b-431f-46be-ba4e-6b477a9efd95": {
       "attrs": {
        "height": 0.8,
        "width": 0.8,
        "x": 0.1,
        "y": 0.1
       },
       "content": {
        "cell": "5173f000-8203-4904-8255-b367a687f5f8",
        "part": "whole"
       },
       "id": "1075589b-431f-46be-ba4e-6b477a9efd95"
      }
     }
    },
    "f320fa10-590c-444c-8fd6-3bce3d5a22d1": {
     "id": "f320fa10-590c-444c-8fd6-3bce3d5a22d1",
     "prev": "bba85ec7-b51f-4156-b074-9592db3ff90a",
     "regions": {
      "a4ddc5f8-7f73-4d49-b12d-2efee6c8b3c4": {
       "attrs": {
        "height": 0.8,
        "width": 0.8,
        "x": 0.1,
        "y": 0.1
       },
       "content": {
        "cell": "22d2aab8-2f60-42a8-b9da-3d8cbcc057f1",
        "part": "whole"
       },
       "id": "a4ddc5f8-7f73-4d49-b12d-2efee6c8b3c4"
      }
     }
    }
   },
   "themes": {}
  }
 },
 "nbformat": 4,
 "nbformat_minor": 1
}
